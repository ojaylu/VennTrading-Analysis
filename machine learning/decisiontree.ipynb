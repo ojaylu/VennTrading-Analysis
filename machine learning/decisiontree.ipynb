{
 "cells": [
  {
   "cell_type": "code",
   "execution_count": 54,
   "metadata": {},
   "outputs": [
    {
     "name": "stdout",
     "output_type": "stream",
     "text": [
      "              precision    recall  f1-score   support\n",
      "\n",
      "           0       0.56      0.94      0.70        34\n",
      "           1       0.75      0.19      0.31        31\n",
      "\n",
      "    accuracy                           0.58        65\n",
      "   macro avg       0.66      0.57      0.51        65\n",
      "weighted avg       0.65      0.58      0.51        65\n",
      "\n",
      "[0 0 0 0 0 0 0 0 0 0 0 0 0 0 0 0 1 0 0 0 0 0 0 0 0 0 0 0 0 1 0 0 1 0 0 0 1\n",
      " 0 1 0 0 0 0 0 0 1 0 0 0 0 0 0 0 0 0 0 0 0 1 0 0 0 0 0 1]\n"
     ]
    },
    {
     "data": {
      "text/plain": [
       "'Source.gv.pdf'"
      ]
     },
     "execution_count": 54,
     "metadata": {},
     "output_type": "execute_result"
    }
   ],
   "source": [
    "import pandas as pd\n",
    "import pandas_ta as ta\n",
    "from plotly.subplots import make_subplots\n",
    "import plotly.graph_objects as go\n",
    "import numpy as np\n",
    "import requests\n",
    "import matplotlib.pyplot as plt\n",
    "from math import floor\n",
    "from termcolor import colored as cl\n",
    "plt.style.use('fivethirtyeight')\n",
    "plt.rcParams['figure.figsize'] = (20,10)\n",
    "from binance.client import Client\n",
    "import datetime as dt\n",
    "import json\n",
    "from sklearn.model_selection import train_test_split\n",
    "from sklearn.tree import DecisionTreeClassifier\n",
    "from sklearn import tree\n",
    "import graphviz\n",
    "from sklearn.metrics import classification_report\n",
    "\n",
    "url = 'https://api.binance.com/api/v3/klines'\n",
    "symbol = 'ADAUSDT'\n",
    "interval = '1d'\n",
    "start = str(int(dt.datetime(2022,3,1).timestamp()*1000))\n",
    "end = str(int(dt.datetime(2022,11,1).timestamp()*1000))\n",
    "par = {'symbol': symbol, 'interval': interval, 'startTime': start, 'endTime': end}\n",
    "data = pd.DataFrame(json.loads(requests.get(url, params= par).text))\n",
    "#format columns name\n",
    "data.columns = ['datetime', 'open', 'high', 'low', 'close', 'volume','close_time', 'qav', 'num_trades','taker_base_vol', 'taker_quote_vol', 'ignore']\n",
    "data.index = [dt.datetime.fromtimestamp(x/1000.0) for x in data.datetime]\n",
    "data=data.astype(float)\n",
    "\n",
    "df = data\n",
    "\n",
    "def get_macd(price, slow, fast, smooth):\n",
    "        exp1 = price.ewm(span = fast, adjust = False).mean()\n",
    "        exp2 = price.ewm(span = slow, adjust = False).mean()\n",
    "        macd = pd.DataFrame(exp1 - exp2).rename(columns = {'close':'macd'})\n",
    "        signal = pd.DataFrame(macd.ewm(span = smooth, adjust = False).mean()).rename(columns = {'macd':'signal'})\n",
    "        hist = pd.DataFrame(macd['macd'] - signal['signal']).rename(columns = {0:'hist'})\n",
    "        return macd, signal, hist\n",
    "\n",
    "data['macd'] = get_macd(data['close'], 26, 12, 9)[0]\n",
    "data['macd_signal'] = get_macd(data['close'], 26, 12, 9)[1]\n",
    "data['macd_hist'] = get_macd(data['close'], 26, 12, 9)[2]\n",
    "data = data.dropna()\n",
    "\n",
    "length = 14\n",
    "data.ta.rsi(close='close', length=length, append=True, signal_indicators=True, xa=50, xb=55)\n",
    "\n",
    "data[\"EMA10\"] = ta.ema(data[\"close\"], length=10)\n",
    "data[\"EMA30\"] = ta.ema(data[\"close\"], length=30)\n",
    "data['ATR'] = df.ta.atr(df['high'].values.any(), df['low'].values.any(), df['close'].values.any(), timeperiod=14)\n",
    "#data['ADX'] = df.ta.adx(df['high'].values.any(), df['low'].values.any(), df['close'].values.any(), timeperiod=14)\n",
    "\n",
    "data['ClgtEMA10'] = np.where(data['close'] > data['EMA10'], 1, -1)\n",
    "data['EMA10gtEMA30'] = np.where(data['EMA10'] > data['EMA30'], 1, -1)\n",
    "data['MACDSIGgtMACD'] = np.where(data['macd_signal'] > data['macd'], 1, -1)\n",
    "\n",
    "data['Return'] = data['close'].pct_change(1).shift(-1)\n",
    "data['target_cls'] = np.where(data.Return > 0, 1, 0)\n",
    "data['target_rgs'] = data['Return']\n",
    "\n",
    "data = data.dropna()\n",
    "\n",
    "predictors_list = ['ATR','RSI_14', 'ClgtEMA10', 'EMA10gtEMA30', 'MACDSIGgtMACD']\n",
    "X = data[predictors_list]\n",
    "\n",
    "y_cls = data.target_cls\n",
    "y_rgs = data.target_rgs\n",
    "\n",
    "y=y_cls\n",
    "X_cls_train, X_cls_test, y_cls_train, y_cls_test = train_test_split(X, y, test_size=0.3, random_state=432, stratify=y)\n",
    "\n",
    "train_length = int(len(data)*0.70)\n",
    "X_rgs_train = X[:train_length]\n",
    "X_rgs_test = X[train_length:]\n",
    "y_rgs_train = y_rgs[:train_length]\n",
    "y_rgs_test = y_rgs[train_length:]\n",
    "\n",
    "clf = DecisionTreeClassifier(criterion='gini', max_depth=3, min_samples_leaf=6)\n",
    "clf = clf.fit(X_cls_train, y_cls_train)\n",
    "\n",
    "dot_data = tree.export_graphviz(clf, out_file=None,filled=True,feature_names=predictors_list)\n",
    "graphviz.Source(dot_data)\n",
    "\n",
    "y_cls_pred = clf.predict(X_cls_test)\n",
    "report = classification_report(y_cls_test, y_cls_pred)\n",
    "\n",
    "print(report)\n",
    "print(y_cls_pred)\n",
    "graphviz.Source(dot_data).view()\n",
    "\n"
   ]
  }
 ],
 "metadata": {
  "kernelspec": {
   "display_name": "Python 3",
   "language": "python",
   "name": "python3"
  },
  "language_info": {
   "codemirror_mode": {
    "name": "ipython",
    "version": 3
   },
   "file_extension": ".py",
   "mimetype": "text/x-python",
   "name": "python",
   "nbconvert_exporter": "python",
   "pygments_lexer": "ipython3",
   "version": "3.10.8"
  },
  "orig_nbformat": 4,
  "vscode": {
   "interpreter": {
    "hash": "aee8b7b246df8f9039afb4144a1f6fd8d2ca17a180786b69acc140d282b71a49"
   }
  }
 },
 "nbformat": 4,
 "nbformat_minor": 2
}
