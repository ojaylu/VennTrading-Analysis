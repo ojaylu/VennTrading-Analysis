{
 "cells": [
  {
   "cell_type": "code",
   "execution_count": 9,
   "metadata": {},
   "outputs": [
    {
     "name": "stdout",
     "output_type": "stream",
     "text": [
      "['54.8', '56.8', '57.85', '59.85', '60.57', '61.1', '62.17', '60.6', '62.35', '62.15', '62.35', '61.45', '62.8', '61.37', '62.5', '62.57', '60.8', '59.37', '60.35', '62.35', '62.17', '62.55', '64.55', '64.37', '65.3', '64.42', '62.9', '61.6', '62.05', '60.05', '59.7', '60.9', '60.25', '58.27', '58.7', '57.72', '58.1', '58.2']\n"
     ]
    }
   ],
   "source": [
    "import csv\n",
    "\n",
    "# Load the data via Python's CSV module\n",
    "with open('wilder-rsi-data.csv', 'r')as file:\n",
    "    reader = csv.reader(file)\n",
    "    header = next(reader)  # skip the header\n",
    "    data = [row[1] for row in list(reader)]\n",
    "# View the Data\n",
    "print (data)\n",
    "# Our data, as a native Python List\n",
    "#['54.8', '56.8', '57.85', '59.85', '60.57', '61.1', '62.17', '60.6', '62.35', '62.15', '62.35', '61.45', '62.8', '61.37', '62.5', '62.57', '60.8', '59.37', '60.35', '62.35', '62.17', '62.55', '64.55', '64.37', '65.3', '64.42', '62.9', '61.6', '62.05', '60.05', '59.7', '60.9', '60.25', '58.27', '58.7', '57.72', '58.1', '58.2']"
   ]
  },
  {
   "cell_type": "code",
   "execution_count": 10,
   "metadata": {},
   "outputs": [],
   "source": [
    "# Define our Lookback period (our sliding window)\n",
    "window_length = 14\n",
    "# Initialize containers for avg. gains and losses\n",
    "gains = []\n",
    "losses = []\n",
    "# Create a container for current lookback prices\n",
    "window = []\n",
    "# Keeps track of previous average values\n",
    "prev_avg_gain = None\n",
    "prev_avg_loss = None\n",
    "# Create a container for our final output (as a csv)\n",
    "output = [['date', 'close', 'gain', 'loss', 'avg_gain', 'avg_loss', 'rsi']]"
   ]
  },
  {
   "cell_type": "code",
   "execution_count": 11,
   "metadata": {},
   "outputs": [],
   "source": [
    "#wilder_data = data\n",
    "#wilder_data = [int(numeric_string) for numeric_string in data]\n",
    "wilder_data = []\n",
    "for i in range(len(data)):\n",
    "    t = float(data[i])\n",
    "    wilder_data.append(t)"
   ]
  },
  {
   "cell_type": "code",
   "execution_count": 12,
   "metadata": {},
   "outputs": [
    {
     "name": "stdout",
     "output_type": "stream",
     "text": [
      "2.0 1.05 2.0 0.72 0.53 1.07 -1.57 1.75 -0.2 0.2 -0.9 1.35 -1.43 1.13 0.07 -1.77 -1.43 0.98 2.0 -0.18 0.38 2.0 -0.18 0.93 -0.88 -1.52 -1.3 0.45 -2.0 -0.35 1.2 -0.65 -1.98 0.43 -0.98 0.38 0.1 "
     ]
    }
   ],
   "source": [
    "# Loop through an enumerated set of our data\n",
    "# to keep track of which period we are currently\n",
    "# making calculations for.\n",
    "for i, price in enumerate(wilder_data):\n",
    "    # keep track of the price for the first period\n",
    "    # but don't calculate a difference value.\n",
    "    if i == 0:\n",
    "        window.append(price)\n",
    "        output.append([i+1, price, 0, 0, 0, 0, 0])\n",
    "        continue\n",
    "    # After the first period, calculate the difference\n",
    "    # between price and previous price as a rounded value\n",
    "    difference = round(wilder_data[i] - wilder_data[i - 1], 2)\n",
    "    print(difference, end=' ')\n",
    "\n",
    "    # Record positive differences as gains\n",
    "    if difference > 0:\n",
    "        gain = difference\n",
    "        loss = 0\n",
    "    # Record negative differences as losses\n",
    "    elif difference < 0:\n",
    "        gain = 0\n",
    "        loss = abs(difference)\n",
    "    # Record no movements as neutral\n",
    "    else:\n",
    "        gain = 0\n",
    "        loss = 0\n",
    "    # Save gains/losses\n",
    "    gains.append(gain)\n",
    "    losses.append(loss)\n",
    "    # Continue to iterate until enough\n",
    "    # # gains/losses data is available to \n",
    "    # # calculate the initial RS value\n",
    "    if i < window_length:\n",
    "        window.append(price)\n",
    "        output.append([i+1, price, gain, loss, 0, 0, 0])\n",
    "        continue\n",
    "    # Calculate SMA for first gain\n",
    "    if i == window_length:\n",
    "        avg_gain = sum(gains) / len(gains)\n",
    "        avg_loss = sum(losses) / len(losses)\n",
    "    # Use WSM after initial window-length period\n",
    "    else:\n",
    "        avg_gain = (prev_avg_gain * (window_length - 1) + gain) / window_length\n",
    "        avg_loss = (prev_avg_loss * (window_length - 1) + loss) / window_length\n",
    "    # Keep in memory\n",
    "    prev_avg_gain = avg_gain\n",
    "    prev_avg_loss = avg_loss\n",
    "    # Round for later comparison (optional)\n",
    "    avg_gain = round(avg_gain, 2)\n",
    "    avg_loss = round(avg_loss, 2)\n",
    "    prev_avg_gain = round(prev_avg_gain, 2)\n",
    "    prev_avg_loss = round(prev_avg_loss, 2)\n",
    "\n",
    "\n"
   ]
  },
  {
   "cell_type": "code",
   "execution_count": 13,
   "metadata": {},
   "outputs": [
    {
     "data": {
      "text/plain": [
       "[['date', 'close', 'gain', 'loss', 'avg_gain', 'avg_loss', 'rsi'],\n",
       " [1, 54.8, 0, 0, 0, 0, 0],\n",
       " [2, 56.8, 2.0, 0, 0, 0, 0],\n",
       " [3, 57.85, 1.05, 0, 0, 0, 0],\n",
       " [4, 59.85, 2.0, 0, 0, 0, 0],\n",
       " [5, 60.57, 0.72, 0, 0, 0, 0],\n",
       " [6, 61.1, 0.53, 0, 0, 0, 0],\n",
       " [7, 62.17, 1.07, 0, 0, 0, 0],\n",
       " [8, 60.6, 0, 1.57, 0, 0, 0],\n",
       " [9, 62.35, 1.75, 0, 0, 0, 0],\n",
       " [10, 62.15, 0, 0.2, 0, 0, 0],\n",
       " [11, 62.35, 0.2, 0, 0, 0, 0],\n",
       " [12, 61.45, 0, 0.9, 0, 0, 0],\n",
       " [13, 62.8, 1.35, 0, 0, 0, 0],\n",
       " [14, 61.37, 0, 1.43, 0, 0, 0],\n",
       " [38, 58.2, 0.1, 0, 0.42, 0.53, 44.13]]"
      ]
     },
     "execution_count": 13,
     "metadata": {},
     "output_type": "execute_result"
    }
   ],
   "source": [
    "\n",
    "# use avg. gains and losses to calculate\n",
    "# the RS value rounded to the nearest \n",
    "# 2 decimal places\n",
    "rs = round(avg_gain / avg_loss, 2)\n",
    "# use the RS value to calculate the \n",
    "# RSI to the nearest 2 decimal places\n",
    "rsi = round(100 - (100 / (1 + rs)), 2)\n",
    "# Remove oldest values\n",
    "window.append(price)\n",
    "window.pop(0)\n",
    "gains.pop(0)\n",
    "losses.pop(0)\n",
    "# Save Data\n",
    "output.append([i+1, price, gain, loss, avg_gain, avg_loss, rsi])\n",
    "output"
   ]
  }
 ],
 "metadata": {
  "kernelspec": {
   "display_name": "Python 3",
   "language": "python",
   "name": "python3"
  },
  "language_info": {
   "codemirror_mode": {
    "name": "ipython",
    "version": 3
   },
   "file_extension": ".py",
   "mimetype": "text/x-python",
   "name": "python",
   "nbconvert_exporter": "python",
   "pygments_lexer": "ipython3",
   "version": "3.10.8"
  },
  "orig_nbformat": 4,
  "vscode": {
   "interpreter": {
    "hash": "aee8b7b246df8f9039afb4144a1f6fd8d2ca17a180786b69acc140d282b71a49"
   }
  }
 },
 "nbformat": 4,
 "nbformat_minor": 2
}
